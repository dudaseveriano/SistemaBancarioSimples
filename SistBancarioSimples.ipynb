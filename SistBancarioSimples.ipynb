{
 "cells": [
  {
   "attachments": {},
   "cell_type": "markdown",
   "metadata": {},
   "source": [
    "## Criar um sistema bancário com as operações : sacar, depositar e vizualizar extrato"
   ]
  },
  {
   "attachments": {},
   "cell_type": "markdown",
   "metadata": {},
   "source": [
    "## Operação de Depósito:\n",
    "Todos os depósitos devem ser armazenados em uma variável e exibidos na operação de extrato."
   ]
  },
  {
   "attachments": {},
   "cell_type": "markdown",
   "metadata": {},
   "source": [
    "## Operação de Saque:\n",
    "O sistema deve permitir realizar 3 saques diários com limite máximo de 500 reais por saque. Caso o usuário n tenha saldo em conta, avisar. Todos os saques devem ser armazenados em uma variávels e exibidos na operação de extrato"
   ]
  },
  {
   "attachments": {},
   "cell_type": "markdown",
   "metadata": {},
   "source": [
    "## Operação de extrato:\n",
    "Essa operação deve listar todas as operações. No fim da listagem deve ser exibido o saldo atual da conta. Se  extrato estiver em branco, exibir: Não foram realizados movimentações."
   ]
  },
  {
   "cell_type": "code",
   "execution_count": null,
   "metadata": {},
   "outputs": [],
   "source": [
    "menu = \"\"\"\"\n",
    "\n",
    "[d] Depositar\n",
    "[s] Saque\n",
    "[e] Extrato \n",
    "[x] Sair\n",
    "\n",
    "\"\"\"\n",
    "\n",
    "saldo = 0 \n",
    "limite = 500\n",
    "qtd_saque = 0\n",
    "limite_saque = 3\n",
    "extrato = \"\"\n",
    "\n",
    "\n",
    "\n",
    "while True:\n",
    "    opcao = input('Qual operação deseja realizar?')\n",
    "\n",
    "    if opcao == 'd':\n",
    "        valor = int(input('Informe o valor do depósito: '))\n",
    "        if valor > 0:\n",
    "            saldo += valor\n",
    "            extrato += f'Valor de {valor:.2f} adicionado.'\n",
    "            qtd_saque += 1 \n",
    "        else:\n",
    "            print('Transação falhou.')\n",
    "        \n",
    "\n",
    "\n",
    "    if opcao == 's':\n",
    "\n",
    "        excedeu_saldo = valor > saldo \n",
    "        excedeu_limite = valor > limite\n",
    "        exceceu_limite_saque = qtd_saque \n",
    "\n",
    "\n",
    "        \n",
    "        valor = int(input('Informe o valor do saque: '))\n",
    "\n",
    "        if excedeu_saldo:\n",
    "            print('Saldo insuficiente.')\n",
    "\n",
    "        elif excedeu_limite:\n",
    "            print('O saque tem o valor máximo de R$500,00')\n",
    "\n",
    "        elif exceceu_limite_saque:\n",
    "            print('Quantidade máxima de saques diários atingido.')\n",
    "\n",
    "        extrato +=f'Saque de R${valor:.2f} realizado'\n",
    "\n",
    "       \n",
    "\n",
    "    elif opcao == 'e':\n",
    "        print('-'*30)\n",
    "        print('Extrato')\n",
    "        print('-'*30)\n",
    "        print()\n",
    "        print('Não foi realizado uma operação.' if not extrato else extrato)\n",
    "        print(f'Saldo: R${saldo:.2f}')\n",
    "\n",
    "\n",
    "    elif opcao == 'x':\n",
    "        break\n",
    "\n",
    "\n"
   ]
  }
 ],
 "metadata": {
  "kernelspec": {
   "display_name": "Python 3",
   "language": "python",
   "name": "python3"
  },
  "language_info": {
   "codemirror_mode": {
    "name": "ipython",
    "version": 3
   },
   "file_extension": ".py",
   "mimetype": "text/x-python",
   "name": "python",
   "nbconvert_exporter": "python",
   "pygments_lexer": "ipython3",
   "version": "3.10.9 (tags/v3.10.9:1dd9be6, Dec  6 2022, 20:01:21) [MSC v.1934 64 bit (AMD64)]"
  },
  "orig_nbformat": 4,
  "vscode": {
   "interpreter": {
    "hash": "3195fe325932e0ccfb5fce6e82e587e718e8610181092ffcef74d5a7cb58fda0"
   }
  }
 },
 "nbformat": 4,
 "nbformat_minor": 2
}
